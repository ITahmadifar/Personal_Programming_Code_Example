{
 "cells": [
  {
   "cell_type": "markdown",
   "metadata": {},
   "source": [
    "# Factorial Function\n",
    "   "
   ]
  },
  {
   "cell_type": "code",
   "execution_count": 3,
   "metadata": {},
   "outputs": [
    {
     "name": "stdout",
     "output_type": "stream",
     "text": [
      "120\n"
     ]
    }
   ],
   "source": [
    "def calc_factorial(n):\n",
    "    if n<0:\n",
    "        print(\"Incorrect Input\")\n",
    "        \n",
    "    elif n==1:\n",
    "        return 1\n",
    "    else:\n",
    "        return (n* calc_factorial (n-1))\n",
    "print( calc_factorial(5))"
   ]
  },
  {
   "cell_type": "code",
   "execution_count": 4,
   "metadata": {},
   "outputs": [
    {
     "name": "stdout",
     "output_type": "stream",
     "text": [
      "120\n"
     ]
    }
   ],
   "source": [
    "def fact(x):\n",
    "    s=1\n",
    "    for i in range (x):\n",
    "        s=s*(i+1)\n",
    "    return s\n",
    "print(fact(5))"
   ]
  },
  {
   "cell_type": "markdown",
   "metadata": {},
   "source": [
    "# Fibonacci Algorithm"
   ]
  },
  {
   "cell_type": "code",
   "execution_count": 9,
   "metadata": {},
   "outputs": [
    {
     "name": "stdout",
     "output_type": "stream",
     "text": [
      "3\n"
     ]
    }
   ],
   "source": [
    "def Fibonacci(n):\n",
    "    if n<0:\n",
    "        print(\"Incorrect input\")\n",
    "        \n",
    "    elif n==1:\n",
    "            return 0\n",
    "    elif n==2:\n",
    "            return 1\n",
    "    else:\n",
    "            return Fibonacci(n-1)+ Fibonacci(n-2)\n",
    "        \n",
    "print (Fibonacci(5))"
   ]
  },
  {
   "cell_type": "markdown",
   "metadata": {},
   "source": [
    "# # Calculator Making 1"
   ]
  },
  {
   "cell_type": "code",
   "execution_count": 1,
   "metadata": {},
   "outputs": [
    {
     "name": "stdout",
     "output_type": "stream",
     "text": [
      "enter first number2\n",
      "enter second number4\n",
      "result for + is: 6.0\n",
      "result for - is: -2.0\n",
      "result for * is: 8.0\n",
      "result for / is: 0.5\n"
     ]
    }
   ],
   "source": [
    "first_number=float(input(\"enter first number\"))\n",
    "second_number=float(input(\"enter second number\"))\n",
    " \n",
    "print (\"result for + is:\", first_number+second_number)\n",
    "print (\"result for - is:\", first_number-second_number)\n",
    "print (\"result for * is:\", first_number*second_number)\n",
    "print (\"result for / is:\", first_number/second_number)"
   ]
  },
  {
   "cell_type": "markdown",
   "metadata": {},
   "source": [
    "# Calculator Making 2 "
   ]
  },
  {
   "cell_type": "code",
   "execution_count": 2,
   "metadata": {},
   "outputs": [
    {
     "data": {
      "text/plain": [
       "(1, 25, 156)"
      ]
     },
     "execution_count": 2,
     "metadata": {},
     "output_type": "execute_result"
    }
   ],
   "source": [
    "def calculator(a,b):\n",
    "    q=a-b\n",
    "    w=a+b\n",
    "    e=a*b\n",
    "    return q,w,e\n",
    "calculator(13,12)"
   ]
  },
  {
   "cell_type": "code",
   "execution_count": 3,
   "metadata": {},
   "outputs": [
    {
     "name": "stdout",
     "output_type": "stream",
     "text": [
      "1 25 156\n"
     ]
    }
   ],
   "source": [
    "sub,add,mul=calculator(13,12)\n",
    "print (sub,add,mul)"
   ]
  },
  {
   "cell_type": "code",
   "execution_count": 4,
   "metadata": {},
   "outputs": [
    {
     "name": "stdout",
     "output_type": "stream",
     "text": [
      "sub=  1  & add=  25 & multiply= 156\n"
     ]
    }
   ],
   "source": [
    "sub,add,mul=calculator(13,12)\n",
    "print(\"sub= \",sub, \" & add= \", add, \"& multiply=\" , mul)"
   ]
  }
 ],
 "metadata": {
  "kernelspec": {
   "display_name": "Python 3 (ipykernel)",
   "language": "python",
   "name": "python3"
  },
  "language_info": {
   "codemirror_mode": {
    "name": "ipython",
    "version": 3
   },
   "file_extension": ".py",
   "mimetype": "text/x-python",
   "name": "python",
   "nbconvert_exporter": "python",
   "pygments_lexer": "ipython3",
   "version": "3.12.7"
  }
 },
 "nbformat": 4,
 "nbformat_minor": 4
}

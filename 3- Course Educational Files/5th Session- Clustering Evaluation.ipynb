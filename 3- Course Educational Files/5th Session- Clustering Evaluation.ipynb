{
 "cells": [
  {
   "cell_type": "code",
   "execution_count": 1,
   "metadata": {},
   "outputs": [],
   "source": [
    "import matplotlib.pyplot as plt\n",
    "from kneed import KneeLocator\n",
    "from sklearn.datasets import make_blobs\n",
    "from sklearn.cluster import KMeans\n",
    "from sklearn.metrics import silhouette_score\n",
    "from sklearn.metrics import davies_bouldin_score\n",
    "from sklearn.preprocessing import StandardScaler"
   ]
  },
  {
   "cell_type": "code",
   "execution_count": 2,
   "metadata": {},
   "outputs": [
    {
     "data": {
      "text/plain": [
       "(array([[ -9.24080482,  -9.68335322],\n",
       "        [ -3.69588553,  -9.65149888],\n",
       "        [ -3.63715229,  -9.33397928],\n",
       "        [ -3.04135137,  -9.48699324],\n",
       "        [ -8.59297339,  -3.91140465],\n",
       "        [ -7.66909082,  -2.65755623],\n",
       "        [ -3.73753814,  -7.5627497 ],\n",
       "        [ -7.69773768,  -1.27294543],\n",
       "        [ -9.41880493,  -2.28616232],\n",
       "        [ -6.42143358,  -5.97748029],\n",
       "        [ -7.09327969,  -9.05328615],\n",
       "        [ -1.84654622, -10.67907188],\n",
       "        [ -3.92335809, -10.01881493],\n",
       "        [ -9.63664522,  -3.95687362],\n",
       "        [ -5.45563055,  -8.44314392],\n",
       "        [ -5.90581739,  -8.60669723],\n",
       "        [ -7.58101265,  -8.08127658],\n",
       "        [ -4.41304976,  -9.91917025],\n",
       "        [ -3.84880387, -10.15724312],\n",
       "        [ -2.70833336, -11.16288247],\n",
       "        [ -2.54579527,  -9.55227391],\n",
       "        [ -6.52004113,  -9.16062229],\n",
       "        [ -8.71936737,  -1.70525757],\n",
       "        [ -6.37155307,  -7.55983637],\n",
       "        [ -8.04738894,  -2.53306619],\n",
       "        [ -2.15749286, -10.33951672],\n",
       "        [ -7.59648246,  -7.99415041],\n",
       "        [ -8.73334275,  -2.54191097],\n",
       "        [ -7.27893058,  -7.34626333],\n",
       "        [ -3.43700881,  -7.51186426],\n",
       "        [ -8.23684201,  -7.29842942],\n",
       "        [ -6.38197887,  -7.85793721],\n",
       "        [ -9.6029089 ,  -9.24302099],\n",
       "        [ -3.75029063, -10.12460436],\n",
       "        [ -6.74049135,  -7.89107707],\n",
       "        [ -2.40625604,  -9.67538864],\n",
       "        [ -8.28633862,  -7.78761767],\n",
       "        [ -6.27316937,  -9.37219775],\n",
       "        [ -8.06863857,  -3.22737315],\n",
       "        [ -5.00207902,  -8.71994116],\n",
       "        [ -8.21628173,  -1.01824304],\n",
       "        [ -6.12802784,  -8.2820916 ],\n",
       "        [ -0.84808842,  -9.21212536],\n",
       "        [ -6.59076064,  -6.93063983],\n",
       "        [ -1.01364578,  -9.35379132],\n",
       "        [ -9.03912455,  -2.68670466],\n",
       "        [ -5.60800217,  -8.33897394],\n",
       "        [ -3.49712767,  -9.57930142],\n",
       "        [ -7.87361512,  -7.8642873 ],\n",
       "        [ -9.91060468,  -2.31261945],\n",
       "        [ -4.03762644, -10.38299901],\n",
       "        [ -0.92797121, -10.6479501 ],\n",
       "        [ -2.77537154,  -8.99336227],\n",
       "        [ -5.52493755,  -8.2742902 ],\n",
       "        [ -7.40681595,  -2.66662957],\n",
       "        [ -6.74166895,  -7.4433875 ],\n",
       "        [ -8.72914591,  -5.99561606],\n",
       "        [ -9.02068471,  -2.12129969],\n",
       "        [ -7.17020289,  -8.00545994],\n",
       "        [ -3.18611061,  -9.5319015 ],\n",
       "        [ -2.91791521,  -8.52405557],\n",
       "        [ -8.42072256,  -1.44252459],\n",
       "        [ -3.11628464,  -9.13171741],\n",
       "        [ -8.65240855,  -3.57647494],\n",
       "        [ -1.15068917,  -9.9542788 ],\n",
       "        [ -4.12993755,  -9.1437548 ],\n",
       "        [-10.93654776,  -1.61464765],\n",
       "        [ -5.20338918,  -7.11552698],\n",
       "        [ -9.52390474,  -4.54686274],\n",
       "        [ -8.30302686,  -6.71606295],\n",
       "        [-10.02291496,  -1.95964542],\n",
       "        [ -8.36959871,  -8.32043536],\n",
       "        [ -9.75676681,  -2.96319796],\n",
       "        [ -8.33312358,  -3.38097409],\n",
       "        [ -5.39115367,  -8.60166197],\n",
       "        [ -2.80798581,  -8.60623072],\n",
       "        [ -3.93121182,  -9.71249748],\n",
       "        [-10.15184307,  -2.47556615],\n",
       "        [ -2.4233923 ,  -8.97956962],\n",
       "        [ -4.77308273, -10.05571171],\n",
       "        [ -3.26754184,  -8.93708153],\n",
       "        [ -2.33052159,  -9.90325632],\n",
       "        [ -5.13191008, -10.0149727 ],\n",
       "        [ -9.56971001,  -1.76629354],\n",
       "        [-10.0152683 ,  -3.54642874],\n",
       "        [-11.0047983 ,  -2.45573018],\n",
       "        [ -6.71696639,  -6.64568661],\n",
       "        [ -8.05508709,  -8.59932991],\n",
       "        [-10.00516196,  -1.21476945],\n",
       "        [ -0.76565709, -10.6486749 ],\n",
       "        [ -2.03808817, -10.78881667],\n",
       "        [ -1.91757574,  -9.03168113],\n",
       "        [ -2.60395588, -11.00416493],\n",
       "        [ -7.46013219,  -8.5472043 ],\n",
       "        [ -9.5983728 ,  -3.08635805],\n",
       "        [ -8.26199311,  -6.19841167],\n",
       "        [ -9.71715686,  -3.43672237],\n",
       "        [ -9.3231547 ,  -0.9154287 ],\n",
       "        [ -7.3119057 ,  -8.63635032],\n",
       "        [ -3.2260134 , -11.30759091],\n",
       "        [ -7.07415488,  -7.44694142],\n",
       "        [ -8.7588008 ,  -3.88078575],\n",
       "        [ -7.52656102,  -7.69700077],\n",
       "        [ -8.48741361,  -3.24002984],\n",
       "        [ -9.77571297,  -2.09264747],\n",
       "        [ -1.72180233,  -8.39728189],\n",
       "        [ -7.90756163,  -8.8233371 ],\n",
       "        [ -8.9768819 ,  -1.60739773],\n",
       "        [ -7.10884438,  -9.38451387],\n",
       "        [ -2.38475113,  -8.81090308],\n",
       "        [-10.06862156,  -3.54859378],\n",
       "        [-10.03012685,  -1.31937905],\n",
       "        [ -7.42207839,  -3.48855797],\n",
       "        [ -7.20781621,  -9.35701581],\n",
       "        [ -2.7613674 ,  -9.49399394],\n",
       "        [ -7.7662424 ,  -6.56134925],\n",
       "        [-10.99073186,   0.27204453],\n",
       "        [ -3.24806641,  -9.6711387 ],\n",
       "        [ -6.8687069 ,  -8.85753927],\n",
       "        [ -2.44312737, -10.60735066],\n",
       "        [ -3.18765265,  -9.99525454],\n",
       "        [ -6.41263362,  -6.88212958],\n",
       "        [ -6.59748434,  -7.73479019],\n",
       "        [ -6.81625853,  -7.03083695],\n",
       "        [ -9.07437398,  -1.43286974],\n",
       "        [ -9.38106294,  -3.39451281],\n",
       "        [ -9.38760212,  -2.40449977],\n",
       "        [ -8.88676638,  -3.79516027],\n",
       "        [ -8.69867965,  -0.68305135],\n",
       "        [ -2.41188664, -10.54471367],\n",
       "        [-11.94343722,  -4.44914141],\n",
       "        [ -3.38708695,  -8.03846499],\n",
       "        [ -3.06283478, -10.26562448],\n",
       "        [ -8.174287  ,  -8.8771252 ],\n",
       "        [ -7.01338233,  -8.73057565],\n",
       "        [ -7.76447626,  -8.03470827],\n",
       "        [ -3.83603703,  -9.41400552],\n",
       "        [ -6.03768274,  -8.40188914],\n",
       "        [ -7.47292576,  -8.75171928],\n",
       "        [ -8.95063506,  -0.8093803 ],\n",
       "        [ -8.52325409,  -1.51734002],\n",
       "        [ -5.14043553,  -9.59943924],\n",
       "        [ -8.73393771,  -8.03499118],\n",
       "        [ -6.61452987,  -8.18375431],\n",
       "        [ -3.43556329,  -9.81788667],\n",
       "        [ -7.51092077,  -8.51666907],\n",
       "        [ -6.70134067,  -7.80369113],\n",
       "        [ -9.65304838,  -3.50390355],\n",
       "        [ -2.63859388,  -9.48230749],\n",
       "        [ -7.96737046,  -2.11778284],\n",
       "        [ -9.58037379,  -2.93732085],\n",
       "        [ -3.49063807, -10.90644378],\n",
       "        [ -3.99754293, -11.59110995],\n",
       "        [ -8.55851451,  -9.0333999 ],\n",
       "        [ -6.73930842,  -7.74220032],\n",
       "        [ -3.15453976,  -8.81744435],\n",
       "        [ -8.6065526 ,  -1.3509447 ],\n",
       "        [ -8.55158864,  -9.20866621],\n",
       "        [ -1.97439633,  -8.33873369],\n",
       "        [ -4.31393982,  -9.53769847],\n",
       "        [ -8.59732206,  -2.73365329],\n",
       "        [ -3.35283169,  -9.04588389],\n",
       "        [-10.87713206,  -1.47910231],\n",
       "        [ -7.67781923,  -1.35363257],\n",
       "        [ -7.90572091,  -7.2554249 ],\n",
       "        [ -7.44717317,  -9.83112887],\n",
       "        [ -3.58093575, -10.13138044],\n",
       "        [ -7.20720234,  -8.00608644],\n",
       "        [ -7.02424636,  -2.65665098],\n",
       "        [ -2.24658072,  -8.88204415],\n",
       "        [ -3.2101239 ,  -9.28838334],\n",
       "        [-10.5011764 ,  -1.80600201],\n",
       "        [ -6.3171348 ,  -7.92009257],\n",
       "        [ -6.99962374,  -9.17344856],\n",
       "        [ -7.03775281,  -8.02431599],\n",
       "        [ -7.25970829,  -8.45625126],\n",
       "        [ -9.70605703,  -2.44917575],\n",
       "        [ -9.79537188,  -2.51794789],\n",
       "        [ -5.254734  ,  -6.85991445],\n",
       "        [ -3.14695215,  -9.7831692 ],\n",
       "        [ -3.9070812 ,  -8.18389172],\n",
       "        [ -7.09634231,  -8.24370697],\n",
       "        [ -8.78334426,  -3.80146947],\n",
       "        [ -4.99855348,  -9.82457628],\n",
       "        [ -9.07989155,  -2.31611166],\n",
       "        [ -1.71093017, -10.03856446],\n",
       "        [ -6.03196487,  -9.01186493],\n",
       "        [ -8.08792819,  -0.64300085],\n",
       "        [ -9.62203005,  -2.43642939],\n",
       "        [ -9.73791789,  -2.46347937],\n",
       "        [ -8.15830386,  -8.12554549],\n",
       "        [-10.10960847,  -2.35269467],\n",
       "        [ -4.17254331,  -9.5889464 ],\n",
       "        [ -2.40022472, -10.40090689],\n",
       "        [-10.71647152,  -3.2515478 ],\n",
       "        [ -9.87807009,  -4.3685549 ],\n",
       "        [ -8.205959  ,  -4.28996539],\n",
       "        [ -9.82733707,  -0.66689667],\n",
       "        [ -1.98011877,  -8.67290242],\n",
       "        [ -8.35100325,  -5.97053565]]),\n",
       " array([0, 1, 1, 1, 2, 2, 1, 2, 2, 0, 0, 1, 1, 2, 1, 0, 0, 1, 1, 1, 1, 0,\n",
       "        2, 0, 2, 1, 0, 2, 0, 1, 0, 0, 0, 1, 0, 1, 0, 0, 2, 0, 2, 0, 1, 0,\n",
       "        1, 2, 0, 1, 0, 2, 1, 1, 1, 0, 2, 0, 0, 2, 0, 1, 1, 2, 1, 2, 1, 1,\n",
       "        2, 0, 2, 0, 2, 0, 2, 2, 0, 1, 1, 2, 1, 1, 1, 1, 1, 2, 2, 2, 0, 0,\n",
       "        2, 1, 1, 1, 1, 0, 2, 0, 2, 2, 0, 1, 0, 2, 0, 2, 2, 1, 0, 2, 0, 1,\n",
       "        2, 2, 2, 0, 1, 0, 2, 1, 0, 1, 1, 0, 0, 0, 2, 2, 2, 2, 2, 1, 2, 1,\n",
       "        1, 0, 0, 0, 1, 0, 0, 2, 2, 1, 0, 0, 1, 0, 0, 2, 1, 2, 2, 1, 1, 0,\n",
       "        0, 1, 2, 0, 1, 1, 2, 1, 2, 2, 0, 0, 1, 0, 2, 1, 1, 2, 0, 0, 0, 0,\n",
       "        2, 2, 0, 1, 1, 0, 2, 1, 2, 1, 0, 2, 2, 2, 0, 2, 1, 1, 2, 2, 2, 2,\n",
       "        1, 0]))"
      ]
     },
     "execution_count": 2,
     "metadata": {},
     "output_type": "execute_result"
    }
   ],
   "source": [
    "features, true_labels = make_blobs(\n",
    " n_samples=200)\n",
    "\n",
    "features, true_labels"
   ]
  },
  {
   "cell_type": "code",
   "execution_count": 3,
   "metadata": {},
   "outputs": [],
   "source": [
    "scaler = StandardScaler()\n",
    "scaled_features = scaler.fit_transform(features)"
   ]
  },
  {
   "cell_type": "code",
   "execution_count": 4,
   "metadata": {},
   "outputs": [],
   "source": [
    "kmeans = KMeans(\n",
    "init=\"random\",\n",
    "n_clusters=3,\n",
    "n_init=10,\n",
    "max_iter=300,\n",
    "random_state=42 )"
   ]
  },
  {
   "cell_type": "code",
   "execution_count": 36,
   "metadata": {},
   "outputs": [
    {
     "data": {
      "text/plain": [
       "KMeans(init='random', n_clusters=3, random_state=42)"
      ]
     },
     "execution_count": 36,
     "metadata": {},
     "output_type": "execute_result"
    }
   ],
   "source": [
    "kmeans.fit(scaled_features)"
   ]
  },
  {
   "cell_type": "code",
   "execution_count": 37,
   "metadata": {},
   "outputs": [
    {
     "data": {
      "text/plain": [
       "array([[ 0.9544802 , -1.34214423],\n",
       "       [ 0.39843351,  0.9252005 ],\n",
       "       [-1.3734124 ,  0.42326105]])"
      ]
     },
     "execution_count": 37,
     "metadata": {},
     "output_type": "execute_result"
    }
   ],
   "source": [
    "kmeans.cluster_centers_"
   ]
  },
  {
   "cell_type": "code",
   "execution_count": 38,
   "metadata": {},
   "outputs": [
    {
     "data": {
      "text/plain": [
       "2"
      ]
     },
     "execution_count": 38,
     "metadata": {},
     "output_type": "execute_result"
    }
   ],
   "source": [
    "kmeans.n_iter_"
   ]
  },
  {
   "cell_type": "code",
   "execution_count": 39,
   "metadata": {
    "scrolled": false
   },
   "outputs": [
    {
     "data": {
      "text/plain": [
       "array([0, 0, 1, 2, 1, 0, 2, 1, 0, 1, 0, 1, 1, 2, 1, 2, 0, 0, 1, 2, 1, 2,\n",
       "       1, 1, 2, 2, 2, 1, 1, 1, 2, 2, 0, 1, 0, 0, 0, 2, 0, 2, 2, 1, 0, 1,\n",
       "       1, 1, 2, 0, 0, 1, 0, 0, 0, 0, 0, 2, 2, 2, 0, 0, 0, 0, 0, 1, 0, 0,\n",
       "       0, 2, 0, 1, 1, 1, 2, 0, 2, 1, 1, 2, 1, 1, 0, 2, 1, 2, 0, 1, 2, 1,\n",
       "       1, 0, 2, 1, 2, 1, 1, 2, 2, 2, 2, 1, 0, 0, 2, 0, 0, 0, 1, 2, 2, 0,\n",
       "       0, 2, 2, 1, 1, 1, 0, 1, 2, 0, 0, 2, 2, 1, 2, 0, 0, 2, 0, 1, 0, 0,\n",
       "       0, 1, 1, 1, 0, 2, 2, 1, 2, 2, 0, 0, 0, 1, 2, 1, 2, 0, 1, 1, 0, 2,\n",
       "       2, 1, 2, 2, 0, 2, 0, 1, 1, 2, 1, 1, 1, 1, 0, 0, 1, 2, 2, 2, 1, 1,\n",
       "       2, 2, 0, 1, 2, 2, 2, 1, 2, 0, 0, 1, 1, 1, 1, 0, 0, 0, 2, 2, 0, 2,\n",
       "       0, 2])"
      ]
     },
     "execution_count": 39,
     "metadata": {},
     "output_type": "execute_result"
    }
   ],
   "source": [
    "labels= kmeans.labels_\n",
    "labels"
   ]
  },
  {
   "cell_type": "code",
   "execution_count": 40,
   "metadata": {
    "scrolled": true
   },
   "outputs": [
    {
     "name": "stdout",
     "output_type": "stream",
     "text": [
      "0.23725813627946443\n"
     ]
    }
   ],
   "source": [
    "print(davies_bouldin_score(scaled_features, labels))"
   ]
  },
  {
   "cell_type": "code",
   "execution_count": 41,
   "metadata": {},
   "outputs": [
    {
     "name": "stdout",
     "output_type": "stream",
     "text": [
      "0.8333869570059801\n"
     ]
    }
   ],
   "source": [
    "print(silhouette_score(scaled_features, labels))"
   ]
  },
  {
   "cell_type": "code",
   "execution_count": 42,
   "metadata": {},
   "outputs": [],
   "source": [
    "kmeans_kwargs = {\n",
    "\"init\": \"random\",\n",
    "\"n_init\": 10,\n",
    "\"max_iter\": 300,\n",
    "\"random_state\": 42 }"
   ]
  },
  {
   "cell_type": "code",
   "execution_count": 43,
   "metadata": {},
   "outputs": [],
   "source": [
    "# A list holds the SSE values for each k\n",
    "sse = []\n",
    "for k in range(1, 11):\n",
    "    kmeans = KMeans(n_clusters=k, **kmeans_kwargs)\n",
    "    kmeans.fit(scaled_features)\n",
    "    sse.append(kmeans.inertia_)"
   ]
  },
  {
   "cell_type": "code",
   "execution_count": 44,
   "metadata": {},
   "outputs": [
    {
     "data": {
      "image/png": "[encoded data removed]",
      "text/plain": [
       "<Figure size 432x288 with 1 Axes>"
      ]
     },
     "metadata": {},
     "output_type": "display_data"
    }
   ],
   "source": [
    "plt.style.use(\"fivethirtyeight\")\n",
    "plt.plot(range(1, 11), sse)\n",
    "plt.xticks(range(1, 11))\n",
    "plt.xlabel(\"Number of Clusters\")\n",
    "plt.ylabel(\"SSE\")\n",
    "plt.show()"
   ]
  },
  {
   "cell_type": "code",
   "execution_count": 45,
   "metadata": {},
   "outputs": [
    {
     "data": {
      "text/plain": [
       "3"
      ]
     },
     "execution_count": 45,
     "metadata": {},
     "output_type": "execute_result"
    }
   ],
   "source": [
    "kl = KneeLocator(range(1, 11), sse, curve=\"convex\", direction=\"decreasing\")\n",
    "\n",
    "kl.elbow\n"
   ]
  },
  {
   "cell_type": "code",
   "execution_count": 46,
   "metadata": {},
   "outputs": [],
   "source": [
    " # A list holds the silhouette coefficients for each k\n",
    "silhouette_coefficients = []\n",
    "\n",
    "# Notice you start at 2 clusters for silhouette coefficient\n",
    "for k in range(2, 11):\n",
    "    kmeans = KMeans(n_clusters=k, **kmeans_kwargs)\n",
    "    kmeans.fit(scaled_features)\n",
    "    score = silhouette_score(scaled_features, kmeans.labels_)\n",
    "    silhouette_coefficients.append(score)"
   ]
  },
  {
   "cell_type": "code",
   "execution_count": 47,
   "metadata": {},
   "outputs": [
    {
     "data": {
      "image/png": "[encoded data removed]",
      "text/plain": [
       "<Figure size 432x288 with 1 Axes>"
      ]
     },
     "metadata": {},
     "output_type": "display_data"
    }
   ],
   "source": [
    "plt.style.use(\"fivethirtyeight\")\n",
    "plt.plot(range(2, 11), silhouette_coefficients)\n",
    "plt.xticks(range(2, 11))\n",
    "plt.xlabel(\"Number of Clusters\")\n",
    "plt.ylabel(\"Silhouette Coefficient\")\n",
    "plt.show()"
   ]
  },
  {
   "cell_type": "code",
   "execution_count": 48,
   "metadata": {},
   "outputs": [],
   "source": [
    " # A list holds the silhouette coefficients for each k\n",
    "davies_bouldin_coefficients = []\n",
    "\n",
    "# Notice you start at 2 clusters for silhouette coefficient\n",
    "for k in range(2, 11):\n",
    "    kmeans = KMeans(n_clusters=k, **kmeans_kwargs)\n",
    "    kmeans.fit(scaled_features)\n",
    "    score = davies_bouldin_score(scaled_features, kmeans.labels_)\n",
    "    davies_bouldin_coefficients.append(score)"
   ]
  },
  {
   "cell_type": "code",
   "execution_count": 49,
   "metadata": {},
   "outputs": [
    {
     "data": {
      "image/png": "[encoded data removed]",
      "text/plain": [
       "<Figure size 432x288 with 1 Axes>"
      ]
     },
     "metadata": {},
     "output_type": "display_data"
    }
   ],
   "source": [
    "plt.style.use(\"fivethirtyeight\")\n",
    "plt.plot(range(2, 11), davies_bouldin_coefficients)\n",
    "plt.xticks(range(2, 11))\n",
    "plt.xlabel(\"Number of Clusters\")\n",
    "plt.ylabel(\" Davies Bouldin Coefficient\")\n",
    "plt.show()"
   ]
  }
 ],
 "metadata": {
  "kernelspec": {
   "display_name": "Python 3",
   "language": "python",
   "name": "python3"
  },
  "language_info": {
   "codemirror_mode": {
    "name": "ipython",
    "version": 3
   },
   "file_extension": ".py",
   "mimetype": "text/x-python",
   "name": "python",
   "nbconvert_exporter": "python",
   "pygments_lexer": "ipython3",
   "version": "3.8.5"
  }
 },
 "nbformat": 4,
 "nbformat_minor": 4
}
